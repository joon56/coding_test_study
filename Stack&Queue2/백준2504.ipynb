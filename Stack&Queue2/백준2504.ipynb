{
  "nbformat": 4,
  "nbformat_minor": 0,
  "metadata": {
    "colab": {
      "provenance": []
    },
    "kernelspec": {
      "name": "python3",
      "display_name": "Python 3"
    },
    "language_info": {
      "name": "python"
    }
  },
  "cells": [
    {
      "cell_type": "code",
      "execution_count": null,
      "metadata": {
        "colab": {
          "base_uri": "https://localhost:8080/"
        },
        "id": "NJhbGweFPHMH",
        "outputId": "086f58b5-5744-4e84-8c54-1358d5986dcf"
      },
      "outputs": [
        {
          "output_type": "stream",
          "name": "stdout",
          "text": [
            "(()[[]])([])\n",
            "28\n"
          ]
        }
      ],
      "source": [
        "b = list(input())\n",
        "\n",
        "s = []\n",
        "answer = 0\n",
        "num = 1\n",
        "\n",
        "for i in range(len(b)):\n",
        "\n",
        "    if b[i] == \"(\":\n",
        "        s.append(b[i])\n",
        "        num *= 2\n",
        "\n",
        "    elif b[i] == \"[\":\n",
        "        s.append(b[i])\n",
        "        num *= 3\n",
        "\n",
        "    elif b[i] == \")\":\n",
        "        if not s or s[-1] == \"[\":\n",
        "            answer = 0\n",
        "            break\n",
        "        if b[i-1] == \"(\":\n",
        "            answer += num\n",
        "        s.pop()\n",
        "        num //= 2\n",
        "\n",
        "    else:\n",
        "        if not s or s[-1] == \"(\":\n",
        "            answer = 0\n",
        "            break\n",
        "        if b[i-1] == \"[\":\n",
        "            answer += num\n",
        "\n",
        "        s.pop()\n",
        "        num //= 3\n",
        "\n",
        "if s:\n",
        "    print(0)\n",
        "else:\n",
        "    print(answer)"
      ]
    }
  ]
}