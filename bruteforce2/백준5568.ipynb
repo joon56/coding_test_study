{
  "nbformat": 4,
  "nbformat_minor": 0,
  "metadata": {
    "colab": {
      "provenance": []
    },
    "kernelspec": {
      "name": "python3",
      "display_name": "Python 3"
    },
    "language_info": {
      "name": "python"
    }
  },
  "cells": [
    {
      "cell_type": "code",
      "execution_count": null,
      "metadata": {
        "id": "z6GtFQKfCWqz",
        "colab": {
          "base_uri": "https://localhost:8080/"
        },
        "outputId": "2f2f7134-6667-443c-80c8-fe9367c512da"
      },
      "outputs": [
        {
          "output_type": "stream",
          "name": "stdout",
          "text": [
            "4\n",
            "2\n",
            "1\n",
            "12\n",
            "1\n",
            "2\n",
            "7\n"
          ]
        }
      ],
      "source": [
        "from itertools import permutations\n",
        "\n",
        "n, k = int(input()), int(input())\n",
        "nums = []\n",
        "result = set()\n",
        "for i in range(n):\n",
        "    num = input()\n",
        "    nums.append(num)\n",
        "    \n",
        "for per in permutations(nums, k):\n",
        "    result.add(''.join(per))\n",
        "    \n",
        "print(len(result))\n"
      ]
    },
    {
      "cell_type": "code",
      "source": [
        "def select(cnt):\n",
        "    global string\n",
        "\n",
        "    if cnt == k:\n",
        "        result.add(string)\n",
        "        return\n",
        "\n",
        "    for i in range(n):\n",
        "        if dp[i] == 0:\n",
        "            dp[i] = 1\n",
        "\n",
        "            tmp = str(card[i])\n",
        "            string += tmp\n",
        "\n",
        "            select(cnt + 1)\n",
        "\n",
        "            dp[i] = 0\n",
        "            string = string[:-len(tmp)]\n"
      ],
      "metadata": {
        "id": "YR2I2YIu-xRs"
      },
      "execution_count": null,
      "outputs": []
    }
  ]
}