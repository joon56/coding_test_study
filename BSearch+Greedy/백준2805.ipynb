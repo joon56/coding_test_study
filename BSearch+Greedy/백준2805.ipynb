{
  "nbformat": 4,
  "nbformat_minor": 0,
  "metadata": {
    "colab": {
      "provenance": []
    },
    "kernelspec": {
      "name": "python3",
      "display_name": "Python 3"
    },
    "language_info": {
      "name": "python"
    }
  },
  "cells": [
    {
      "cell_type": "code",
      "execution_count": null,
      "metadata": {
        "id": "2wf2xMlyQyly"
      },
      "outputs": [],
      "source": [
        "N, M = map(int, input().split())\n",
        "tree = list(map(int, input().split()))\n",
        "start, end = 1, max(tree) #이분탐색 검색 범위 설정\n",
        "\n",
        "while start <= end: #적절한 벌목 높이를 찾는 알고리즘\n",
        "    mid = (start+end) // 2\n",
        "    \n",
        "    log = 0 #벌목된 나무 총합\n",
        "    for i in tree:\n",
        "        if i >= mid:\n",
        "            log += i - mid\n",
        "    \n",
        "    #벌목 높이를 이분탐색\n",
        "    if log >= M:\n",
        "        start = mid + 1\n",
        "    else:\n",
        "        end = mid - 1\n",
        "print(end)"
      ]
    }
  ]
}