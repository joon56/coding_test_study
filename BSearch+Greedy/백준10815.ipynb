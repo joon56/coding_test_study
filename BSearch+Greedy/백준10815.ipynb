{
  "nbformat": 4,
  "nbformat_minor": 0,
  "metadata": {
    "colab": {
      "provenance": []
    },
    "kernelspec": {
      "name": "python3",
      "display_name": "Python 3"
    },
    "language_info": {
      "name": "python"
    }
  },
  "cells": [
    {
      "cell_type": "code",
      "execution_count": null,
      "metadata": {
        "colab": {
          "base_uri": "https://localhost:8080/"
        },
        "id": "QFw5W-JXH-GV",
        "outputId": "fa20fac3-1bec-4d25-eb17-97256f746c36"
      },
      "outputs": [
        {
          "output_type": "stream",
          "name": "stdout",
          "text": [
            "6\n",
            "1 3 2 10 -10\n",
            "8\n",
            "10 9\n",
            "1 0\n"
          ]
        }
      ],
      "source": [
        "N = map(int, input())\n",
        "my_card = sorted(map(int, input().split()))\n",
        "M = map(int, input())\n",
        "num_card = list(map(int, input().split()))\n",
        "answer = []\n",
        "\n",
        "def binary(k, my_card, start, end):\n",
        "    mid = (start+end) // 2\n",
        "    if start > end:\n",
        "        answer.append(str(0))\n",
        "    elif k == my_card[mid]:\n",
        "        answer.append(str(1))\n",
        "    elif k > my_card[mid]:\n",
        "        binary(k, my_card, mid+1, end)\n",
        "    else:\n",
        "        binary(k, my_card, start, mid-1)\n",
        "\n",
        "for k in num_card:\n",
        "    start = 0\n",
        "    end = len(my_card)-1\n",
        "    binary(k, my_card, start, end)\n",
        "\n",
        "print(' '.join(answer))"
      ]
    }
  ]
}