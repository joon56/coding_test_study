{
  "nbformat": 4,
  "nbformat_minor": 0,
  "metadata": {
    "colab": {
      "provenance": []
    },
    "kernelspec": {
      "name": "python3",
      "display_name": "Python 3"
    },
    "language_info": {
      "name": "python"
    }
  },
  "cells": [
    {
      "cell_type": "code",
      "execution_count": 3,
      "metadata": {
        "id": "vwCUx5Q-kWSZ",
        "colab": {
          "base_uri": "https://localhost:8080/"
        },
        "outputId": "fa717cb9-83d6-4f2d-f0f1-f3633e1febec"
      },
      "outputs": [
        {
          "output_type": "stream",
          "name": "stdout",
          "text": [
            "122333444455555\n",
            "11060446\n"
          ]
        }
      ],
      "source": [
        "n = int(input())\n",
        "\n",
        "q = 0\n",
        "t = n\n",
        "\n",
        "while q <= t:\n",
        "    mid = (q + t) // 2\n",
        "    if mid ** 2 < n:\n",
        "        q = mid + 1\n",
        "    else:\n",
        "        t = mid - 1\n",
        "\n",
        "print(q)"
      ]
    }
  ]
}