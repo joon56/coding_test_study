{
  "nbformat": 4,
  "nbformat_minor": 0,
  "metadata": {
    "colab": {
      "provenance": []
    },
    "kernelspec": {
      "name": "python3",
      "display_name": "Python 3"
    },
    "language_info": {
      "name": "python"
    }
  },
  "cells": [
    {
      "cell_type": "code",
      "execution_count": null,
      "metadata": {
        "colab": {
          "base_uri": "https://localhost:8080/"
        },
        "id": "sYCP6wk79HGy",
        "outputId": "c362b558-fc28-4fd7-b10f-9aca2dadee07"
      },
      "outputs": [
        {
          "output_type": "stream",
          "name": "stdout",
          "text": [
            "200\n",
            "19\n"
          ]
        }
      ],
      "source": [
        "s = int(input())\n",
        "total = 0\n",
        "num = 0\n",
        "\n",
        "while True:\n",
        "    num += 1\n",
        "    total += num\n",
        "    if total > s:\n",
        "        break\n",
        "\n",
        "print(num-1)"
      ]
    }
  ]
}