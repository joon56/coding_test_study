{
  "nbformat": 4,
  "nbformat_minor": 0,
  "metadata": {
    "colab": {
      "provenance": []
    },
    "kernelspec": {
      "name": "python3",
      "display_name": "Python 3"
    },
    "language_info": {
      "name": "python"
    }
  },
  "cells": [
    {
      "cell_type": "code",
      "execution_count": null,
      "metadata": {
        "colab": {
          "base_uri": "https://localhost:8080/"
        },
        "id": "cQ8SUy6hKsyc",
        "outputId": "e62469a1-6e5d-4508-9982-16e090375c0f"
      },
      "outputs": [
        {
          "output_type": "stream",
          "name": "stdout",
          "text": [
            "3 3\n",
            "AAA\n",
            "AAC\n",
            "ACC\n",
            "AAC\n",
            "2\n"
          ]
        }
      ],
      "source": [
        "n, m = map(int, input().split())\n",
        "arr = []\n",
        "\n",
        "for _ in range(n):\n",
        "  arr.append(input())\n",
        "\n",
        "hap = 0\n",
        "result = ''\n",
        "\n",
        "for i in range(m):\n",
        "  atcg = [0,0,0,0]\n",
        "  for j in range(n):\n",
        "    if arr[j][i] == 'A':\n",
        "      atcg[0] += 1\n",
        "    elif arr[j][i] == 'T':\n",
        "      atcg[1] += 1\n",
        "    elif arr[j][i] == 'C':\n",
        "      atcg[2] += 1\n",
        "    elif arr[j][i] == 'G':\n",
        "      atcg[3] += 1\n",
        "\n",
        "  idx = atcg.index(max(atcg))\n",
        "  if idx == 0:\n",
        "    result += 'A'\n",
        "  elif idx == 1:\n",
        "    result += 'T'\n",
        "  elif idx == 2:\n",
        "    result += 'C'\n",
        "  elif idx == 3:\n",
        "    result += 'G'\n",
        "  hap += n - max(atcg)\n",
        "\n",
        "print(result)\n",
        "print(hap)"
      ]
    },
    {
      "cell_type": "code",
      "source": [
        "n, m = map(int, input().split())\n",
        "arr = []\n",
        "\n",
        "for _ in range(n):\n",
        "  arr.append(input())\n",
        "\n",
        "hap = 0\n",
        "result = ''\n",
        "\n",
        "for i in range(m):\n",
        "  a, t, c ,g = 0, 0 ,0 ,0\n",
        "  for j in range(n):\n",
        "    if arr[j][i] == 'A':\n",
        "      a += 1\n",
        "    elif arr[j][i] == 'T':\n",
        "      t += 1\n",
        "    elif arr[j][i] == 'C':\n",
        "      c += 1\n",
        "    elif arr[j][i] == 'G':\n",
        "      g += 1\n",
        "\n",
        "  if a == max(a, t, c, g):\n",
        "    result += 'A'\n",
        "  elif t == max(a, t, c, g):\n",
        "    result += 'T'\n",
        "  elif c == max(a, t, c, g):\n",
        "    result += 'C'\n",
        "  elif g == max(a, t, c, g):\n",
        "    result += 'G'\n",
        "    \n",
        "  hap += n - max(a,t,c,g)\n",
        "\n",
        "print(result)\n",
        "print(hap)"
      ],
      "metadata": {
        "colab": {
          "base_uri": "https://localhost:8080/"
        },
        "id": "9Wp7cR0wVSng",
        "outputId": "e058ccb0-a494-4d45-c57d-0e943ce28abe"
      },
      "execution_count": null,
      "outputs": [
        {
          "output_type": "stream",
          "name": "stdout",
          "text": [
            "3 3\n",
            "AAA\n",
            "AAC\n",
            "ACC\n",
            "AAC\n",
            "2\n"
          ]
        }
      ]
    },
    {
      "cell_type": "code",
      "source": [],
      "metadata": {
        "id": "5SHJfldZKDVn"
      },
      "execution_count": null,
      "outputs": []
    }
  ]
}