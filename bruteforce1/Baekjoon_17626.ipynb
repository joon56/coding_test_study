{
  "nbformat": 4,
  "nbformat_minor": 0,
  "metadata": {
    "colab": {
      "provenance": []
    },
    "kernelspec": {
      "name": "python3",
      "display_name": "Python 3"
    },
    "language_info": {
      "name": "python"
    }
  },
  "cells": [
    {
      "cell_type": "code",
      "execution_count": null,
      "metadata": {
        "id": "kdPKxyT1WKXn",
        "colab": {
          "base_uri": "https://localhost:8080/"
        },
        "outputId": "5db20641-635a-4dd3-cc05-be1c5c2c8d8d"
      },
      "outputs": [
        {
          "output_type": "stream",
          "name": "stdout",
          "text": [
            "123\n",
            "3\n"
          ]
        }
      ],
      "source": [
        "import math\n",
        "\n",
        "def four_squares(n):\n",
        "\n",
        "  if int(math.sqrt(n)) == math.sqrt(n):\n",
        "    return 1\n",
        "\n",
        "  for i in range(1, int(math.sqrt(n)) + 1):\n",
        "\n",
        "    if int(math.sqrt(n - pow(i, 2))) == math.sqrt(n - pow(i, 2)):\n",
        "      return 2\n",
        "\n",
        "  for i in range(1, int(math.sqrt(n)) + 1):\n",
        "        for j in range(1, int(math.sqrt(n - pow(i,2))) + 1):\n",
        "            if int(math.sqrt(n - pow(i,2) - pow(j,2))) == math.sqrt(n - pow(i,2) - pow(j,2)):\n",
        "                return 3\n",
        "\n",
        "  return 4\n",
        "\n",
        "n = int(input())\n",
        "print(four_squares(n))"
      ]
    }
  ]
}