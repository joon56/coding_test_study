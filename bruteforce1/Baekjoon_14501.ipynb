{
  "nbformat": 4,
  "nbformat_minor": 0,
  "metadata": {
    "colab": {
      "provenance": []
    },
    "kernelspec": {
      "name": "python3",
      "display_name": "Python 3"
    },
    "language_info": {
      "name": "python"
    }
  },
  "cells": [
    {
      "cell_type": "code",
      "execution_count": null,
      "metadata": {
        "colab": {
          "base_uri": "https://localhost:8080/"
        },
        "id": "ymJ8FefVsJaH",
        "outputId": "71ed0e0f-9624-4e22-d57d-a55a03b15f3b"
      },
      "outputs": [
        {
          "output_type": "stream",
          "name": "stdout",
          "text": [
            "3\n",
            "1 1\n",
            "1 2\n",
            "1 3\n",
            "6\n"
          ]
        }
      ],
      "source": [
        "date = int(input())\n",
        "t = []\n",
        "p = []\n",
        "max_gain = []\n",
        "\n",
        "for _ in range(date):\n",
        "  ti, pi = map(int, input().split())\n",
        "  t.append(ti)\n",
        "  p.append(pi)\n",
        "\n",
        "for _ in range(date + 1):\n",
        "  max_gain.append(0)\n",
        "\n",
        "for i in range(date-1, -1, -1):\n",
        "  if t[i] + i > date:\n",
        "    max_gain[i] = max_gain[i+1]\n",
        "  \n",
        "  else:\n",
        "    max_gain[i] = max(max_gain[i+1], max_gain[t[i]+i] + p[i])\n",
        "\n",
        "print(max_gain[0])"
      ]
    }
  ]
}