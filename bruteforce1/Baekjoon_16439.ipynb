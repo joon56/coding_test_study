{
  "nbformat": 4,
  "nbformat_minor": 0,
  "metadata": {
    "colab": {
      "provenance": []
    },
    "kernelspec": {
      "name": "python3",
      "display_name": "Python 3"
    },
    "language_info": {
      "name": "python"
    }
  },
  "cells": [
    {
      "cell_type": "code",
      "execution_count": null,
      "metadata": {
        "id": "H9wITYEgSJEF",
        "colab": {
          "base_uri": "https://localhost:8080/"
        },
        "outputId": "2fd9e5b1-c7b7-4903-ef71-ae0896960b8e"
      },
      "outputs": [
        {
          "output_type": "stream",
          "name": "stdout",
          "text": [
            "3 5\n",
            "1 2 3 4 5\n",
            "5 4 3 2 1\n",
            "1 2 3 2 1\n",
            "13\n"
          ]
        }
      ],
      "source": [
        "from itertools import combinations\n",
        " \n",
        "n,m = map(int,input().split()) \n",
        "prefer = [list(map(int,input().split())) for i in range(n)] \n",
        "result = 0\n",
        " \n",
        "for combi in combinations(range(m),3): \n",
        "    satisfy_sum = 0                           \n",
        "    for r in range(n):                \n",
        "        p = 0\n",
        "        for idx in combi:\n",
        "            p = max(p,prefer[r][idx])     \n",
        "        satisfy_sum += p                      \n",
        "    result = max(result,satisfy_sum)          \n",
        "print(result)"
      ]
    }
  ]
}